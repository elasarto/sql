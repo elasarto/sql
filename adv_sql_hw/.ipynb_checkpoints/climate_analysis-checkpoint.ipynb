{
 "cells": [
  {
   "cell_type": "code",
   "execution_count": 354,
   "metadata": {
    "collapsed": true
   },
   "outputs": [],
   "source": [
    "import pandas as pd\n",
    "import numpy as np\n",
    "import matplotlib.pyplot as plt\n",
    "import matplotlib.dates as mdates\n",
    "import seaborn as sns\n",
    "import datetime as dt"
   ]
  },
  {
   "cell_type": "code",
   "execution_count": 422,
   "metadata": {},
   "outputs": [],
   "source": [
    "# Python SQL toolkit and Object Relational Mapper\n",
    "import sqlalchemy\n",
    "from sqlalchemy.ext.automap import automap_base\n",
    "from sqlalchemy.orm import Session\n",
    "from sqlalchemy import create_engine, inspect, func, desc, and_"
   ]
  },
  {
   "cell_type": "code",
   "execution_count": 356,
   "metadata": {
    "collapsed": true
   },
   "outputs": [],
   "source": [
    "engine = create_engine(\"sqlite:///hawaii.sqlite\", echo=False)"
   ]
  },
  {
   "cell_type": "code",
   "execution_count": 357,
   "metadata": {},
   "outputs": [
    {
     "data": {
      "text/plain": [
       "[(1, 'USC00519397', '2010-01-01', 0.08, 65),\n",
       " (2, 'USC00519397', '2010-01-02', 0.0, 63),\n",
       " (3, 'USC00519397', '2010-01-03', 0.0, 74),\n",
       " (4, 'USC00519397', '2010-01-04', 0.0, 76),\n",
       " (5, 'USC00519397', '2010-01-07', 0.06, 70)]"
      ]
     },
     "execution_count": 357,
     "metadata": {},
     "output_type": "execute_result"
    }
   ],
   "source": [
    "engine.execute('SELECT * FROM measurement LIMIT 5').fetchall()"
   ]
  },
  {
   "cell_type": "code",
   "execution_count": 358,
   "metadata": {},
   "outputs": [
    {
     "name": "stdout",
     "output_type": "stream",
     "text": [
      "id INTEGER\n",
      "station VARCHAR\n",
      "date VARCHAR\n",
      "prcp FLOAT\n",
      "tobs INTEGER\n"
     ]
    }
   ],
   "source": [
    "inspector = inspect(engine)\n",
    "columns = inspector.get_columns('measurement')\n",
    "for c in columns:\n",
    "    print(c['name'], c[\"type\"])"
   ]
  },
  {
   "cell_type": "code",
   "execution_count": 359,
   "metadata": {},
   "outputs": [
    {
     "data": {
      "text/plain": [
       "[(1, 'USC00519397', 'WAIKIKI 717.2, HI US', 21.2716, -157.8168, 3.0),\n",
       " (2, 'USC00513117', 'KANEOHE 838.1, HI US', 21.4234, -157.8015, 14.6),\n",
       " (3, 'USC00514830', 'KUALOA RANCH HEADQUARTERS 886.9, HI US', 21.5213, -157.8374, 7.0),\n",
       " (4, 'USC00517948', 'PEARL CITY, HI US', 21.3934, -157.9751, 11.9),\n",
       " (5, 'USC00518838', 'UPPER WAHIAWA 874.3, HI US', 21.4992, -158.0111, 306.6)]"
      ]
     },
     "execution_count": 359,
     "metadata": {},
     "output_type": "execute_result"
    }
   ],
   "source": [
    "engine.execute('SELECT * FROM station LIMIT 5').fetchall()"
   ]
  },
  {
   "cell_type": "code",
   "execution_count": 360,
   "metadata": {},
   "outputs": [
    {
     "name": "stdout",
     "output_type": "stream",
     "text": [
      "id INTEGER\n",
      "station VARCHAR\n",
      "name VARCHAR\n",
      "latitude FLOAT\n",
      "longitude FLOAT\n",
      "elevation FLOAT\n"
     ]
    }
   ],
   "source": [
    "inspector = inspect(engine)\n",
    "columns = inspector.get_columns('station')\n",
    "for c in columns:\n",
    "    print(c['name'], c[\"type\"])"
   ]
  },
  {
   "cell_type": "code",
   "execution_count": 361,
   "metadata": {
    "collapsed": true
   },
   "outputs": [],
   "source": [
    "Base = automap_base()\n",
    "Base.prepare(engine, reflect=True)\n",
    "Measurement = Base.classes.measurement\n",
    "Station = Base.classes.station"
   ]
  },
  {
   "cell_type": "code",
   "execution_count": 362,
   "metadata": {
    "collapsed": true
   },
   "outputs": [],
   "source": [
    "session = Session(engine)"
   ]
  },
  {
   "cell_type": "markdown",
   "metadata": {},
   "source": [
    "Precipitation Analysis"
   ]
  },
  {
   "cell_type": "code",
   "execution_count": 363,
   "metadata": {},
   "outputs": [
    {
     "data": {
      "text/plain": [
       "[('2017-04-17', 0.02),\n",
       " ('2017-04-18', 0.0),\n",
       " ('2017-04-19', 0.02),\n",
       " ('2017-04-20', 0.05),\n",
       " ('2017-04-21', 0.23)]"
      ]
     },
     "execution_count": 363,
     "metadata": {},
     "output_type": "execute_result"
    }
   ],
   "source": [
    "#last 12 mos of precip data\n",
    "sel = [Measurement.date,\n",
    "       Measurement.prcp]\n",
    "year_ago = dt.date.today() - dt.timedelta(days=365)\n",
    "last_year = session.query(*sel).\\\n",
    "    filter(Measurement.date >= year_ago).all()\n",
    "last_year[:5]"
   ]
  },
  {
   "cell_type": "code",
   "execution_count": 364,
   "metadata": {},
   "outputs": [
    {
     "data": {
      "text/html": [
       "<div>\n",
       "<style>\n",
       "    .dataframe thead tr:only-child th {\n",
       "        text-align: right;\n",
       "    }\n",
       "\n",
       "    .dataframe thead th {\n",
       "        text-align: left;\n",
       "    }\n",
       "\n",
       "    .dataframe tbody tr th {\n",
       "        vertical-align: top;\n",
       "    }\n",
       "</style>\n",
       "<table border=\"1\" class=\"dataframe\">\n",
       "  <thead>\n",
       "    <tr style=\"text-align: right;\">\n",
       "      <th></th>\n",
       "      <th>date</th>\n",
       "      <th>prcp</th>\n",
       "    </tr>\n",
       "  </thead>\n",
       "  <tbody>\n",
       "    <tr>\n",
       "      <th>0</th>\n",
       "      <td>2017-04-17</td>\n",
       "      <td>0.02</td>\n",
       "    </tr>\n",
       "    <tr>\n",
       "      <th>1</th>\n",
       "      <td>2017-04-18</td>\n",
       "      <td>0.00</td>\n",
       "    </tr>\n",
       "    <tr>\n",
       "      <th>2</th>\n",
       "      <td>2017-04-19</td>\n",
       "      <td>0.02</td>\n",
       "    </tr>\n",
       "    <tr>\n",
       "      <th>3</th>\n",
       "      <td>2017-04-20</td>\n",
       "      <td>0.05</td>\n",
       "    </tr>\n",
       "    <tr>\n",
       "      <th>4</th>\n",
       "      <td>2017-04-21</td>\n",
       "      <td>0.23</td>\n",
       "    </tr>\n",
       "  </tbody>\n",
       "</table>\n",
       "</div>"
      ],
      "text/plain": [
       "         date  prcp\n",
       "0  2017-04-17  0.02\n",
       "1  2017-04-18  0.00\n",
       "2  2017-04-19  0.02\n",
       "3  2017-04-20  0.05\n",
       "4  2017-04-21  0.23"
      ]
     },
     "execution_count": 364,
     "metadata": {},
     "output_type": "execute_result"
    }
   ],
   "source": [
    "precip_2017 = pd.DataFrame(last_year, columns=['date', 'prcp'])\n",
    "precip_2017.head()"
   ]
  },
  {
   "cell_type": "code",
   "execution_count": 365,
   "metadata": {},
   "outputs": [
    {
     "name": "stdout",
     "output_type": "stream",
     "text": [
      "<class 'pandas.core.frame.DataFrame'>\n",
      "RangeIndex: 674 entries, 0 to 673\n",
      "Data columns (total 2 columns):\n",
      "date    674 non-null object\n",
      "prcp    674 non-null float64\n",
      "dtypes: float64(1), object(1)\n",
      "memory usage: 10.6+ KB\n"
     ]
    }
   ],
   "source": [
    "precip_2017.info()"
   ]
  },
  {
   "cell_type": "code",
   "execution_count": 366,
   "metadata": {},
   "outputs": [],
   "source": [
    "precip_2017['date'] = pd.to_datetime(precip_2017['date'],format='%Y-%m-%d')"
   ]
  },
  {
   "cell_type": "code",
   "execution_count": 367,
   "metadata": {},
   "outputs": [
    {
     "name": "stdout",
     "output_type": "stream",
     "text": [
      "<class 'pandas.core.frame.DataFrame'>\n",
      "RangeIndex: 674 entries, 0 to 673\n",
      "Data columns (total 2 columns):\n",
      "date    674 non-null datetime64[ns]\n",
      "prcp    674 non-null float64\n",
      "dtypes: datetime64[ns](1), float64(1)\n",
      "memory usage: 10.6 KB\n"
     ]
    }
   ],
   "source": [
    "precip_2017.info()"
   ]
  },
  {
   "cell_type": "code",
   "execution_count": 368,
   "metadata": {},
   "outputs": [],
   "source": [
    "precip_2017.set_index('date', inplace=True)"
   ]
  },
  {
   "cell_type": "code",
   "execution_count": 369,
   "metadata": {
    "scrolled": true
   },
   "outputs": [
    {
     "data": {
      "text/html": [
       "<div>\n",
       "<style>\n",
       "    .dataframe thead tr:only-child th {\n",
       "        text-align: right;\n",
       "    }\n",
       "\n",
       "    .dataframe thead th {\n",
       "        text-align: left;\n",
       "    }\n",
       "\n",
       "    .dataframe tbody tr th {\n",
       "        vertical-align: top;\n",
       "    }\n",
       "</style>\n",
       "<table border=\"1\" class=\"dataframe\">\n",
       "  <thead>\n",
       "    <tr style=\"text-align: right;\">\n",
       "      <th></th>\n",
       "      <th>prcp</th>\n",
       "    </tr>\n",
       "    <tr>\n",
       "      <th>date</th>\n",
       "      <th></th>\n",
       "    </tr>\n",
       "  </thead>\n",
       "  <tbody>\n",
       "    <tr>\n",
       "      <th>2017-04-17</th>\n",
       "      <td>0.02</td>\n",
       "    </tr>\n",
       "    <tr>\n",
       "      <th>2017-04-18</th>\n",
       "      <td>0.00</td>\n",
       "    </tr>\n",
       "    <tr>\n",
       "      <th>2017-04-19</th>\n",
       "      <td>0.02</td>\n",
       "    </tr>\n",
       "    <tr>\n",
       "      <th>2017-04-20</th>\n",
       "      <td>0.05</td>\n",
       "    </tr>\n",
       "    <tr>\n",
       "      <th>2017-04-21</th>\n",
       "      <td>0.23</td>\n",
       "    </tr>\n",
       "  </tbody>\n",
       "</table>\n",
       "</div>"
      ],
      "text/plain": [
       "            prcp\n",
       "date            \n",
       "2017-04-17  0.02\n",
       "2017-04-18  0.00\n",
       "2017-04-19  0.02\n",
       "2017-04-20  0.05\n",
       "2017-04-21  0.23"
      ]
     },
     "execution_count": 369,
     "metadata": {},
     "output_type": "execute_result"
    }
   ],
   "source": [
    "precip_2017.head()"
   ]
  },
  {
   "cell_type": "code",
   "execution_count": 370,
   "metadata": {},
   "outputs": [
    {
     "name": "stdout",
     "output_type": "stream",
     "text": [
      "<class 'pandas.core.frame.DataFrame'>\n",
      "DatetimeIndex: 674 entries, 2017-04-17 to 2017-08-23\n",
      "Data columns (total 1 columns):\n",
      "prcp    674 non-null float64\n",
      "dtypes: float64(1)\n",
      "memory usage: 10.5 KB\n"
     ]
    }
   ],
   "source": [
    "precip_2017.info()"
   ]
  },
  {
   "cell_type": "code",
   "execution_count": 371,
   "metadata": {},
   "outputs": [
    {
     "data": {
      "image/png": "[encoded data removed]",
      "text/plain": [
       "<matplotlib.figure.Figure at 0x1a1ff0ee10>"
      ]
     },
     "metadata": {},
     "output_type": "display_data"
    }
   ],
   "source": [
    "sns.set()\n",
    "\n",
    "ax = precip_2017.plot(kind='bar', y='prcp')\n",
    "\n",
    "plt.title(\"Hawaii Precipitation Last 12 Months\")\n",
    "plt.ylabel(\"Precipitation\")\n",
    "plt.xlabel(\"Date\")\n",
    "plt.grid(True)\n",
    "\n",
    "n = 80\n",
    "\n",
    "ticks = ax.xaxis.get_ticklocs()\n",
    "ticklabels = [l.get_text() for l in ax.xaxis.get_ticklabels()]\n",
    "ax.xaxis.set_ticks(ticks[::n])\n",
    "ax.xaxis.set_ticklabels(ticklabels[::n], rotation=25)\n",
    "\n",
    "#plt.savefig(\"Hawaii_Precip_12mos.png\", dpi=350)\n",
    "plt.show()"
   ]
  },
  {
   "cell_type": "markdown",
   "metadata": {},
   "source": [
    "Station Analysis"
   ]
  },
  {
   "cell_type": "code",
   "execution_count": 372,
   "metadata": {},
   "outputs": [
    {
     "name": "stdout",
     "output_type": "stream",
     "text": [
      "9\n"
     ]
    }
   ],
   "source": [
    "#count of stations\n",
    "station_count = session.query(Station).group_by(Station.station).count()\n",
    "print(station_count)"
   ]
  },
  {
   "cell_type": "code",
   "execution_count": 373,
   "metadata": {},
   "outputs": [
    {
     "name": "stdout",
     "output_type": "stream",
     "text": [
      "[('WAIHEE 837.5, HI US', 'USC00519281', 2772), ('KANEOHE 838.1, HI US', 'USC00513117', 2696), ('WAIKIKI 717.2, HI US', 'USC00519397', 2685), ('WAIMANALO EXPERIMENTAL FARM, HI US', 'USC00519523', 2572), ('MANOA LYON ARBO 785.2, HI US', 'USC00516128', 2484), ('KUALOA RANCH HEADQUARTERS 886.9, HI US', 'USC00514830', 1937), ('HONOLULU OBSERVATORY 702.2, HI US', 'USC00511918', 1932), ('PEARL CITY, HI US', 'USC00517948', 683), ('UPPER WAHIAWA 874.3, HI US', 'USC00518838', 342)]\n"
     ]
    }
   ],
   "source": [
    "#most active stations/observation counts\n",
    "sel = [Station.name,\n",
    "       Measurement.station,  \n",
    "       func.count(Measurement.tobs)]\n",
    "station_join = session.query(*sel).\\\n",
    "    filter(Measurement.station == Station.station).\\\n",
    "    group_by(Measurement.station).\\\n",
    "    order_by(desc(func.count(Measurement.tobs))).all()\n",
    "   \n",
    "  \n",
    "print(station_join)"
   ]
  },
  {
   "cell_type": "code",
   "execution_count": 374,
   "metadata": {},
   "outputs": [
    {
     "data": {
      "text/html": [
       "<div>\n",
       "<style>\n",
       "    .dataframe thead tr:only-child th {\n",
       "        text-align: right;\n",
       "    }\n",
       "\n",
       "    .dataframe thead th {\n",
       "        text-align: left;\n",
       "    }\n",
       "\n",
       "    .dataframe tbody tr th {\n",
       "        vertical-align: top;\n",
       "    }\n",
       "</style>\n",
       "<table border=\"1\" class=\"dataframe\">\n",
       "  <thead>\n",
       "    <tr style=\"text-align: right;\">\n",
       "      <th></th>\n",
       "      <th>station name</th>\n",
       "      <th>station id</th>\n",
       "      <th>tobs count</th>\n",
       "    </tr>\n",
       "  </thead>\n",
       "  <tbody>\n",
       "    <tr>\n",
       "      <th>0</th>\n",
       "      <td>WAIHEE 837.5, HI US</td>\n",
       "      <td>USC00519281</td>\n",
       "      <td>2772</td>\n",
       "    </tr>\n",
       "    <tr>\n",
       "      <th>1</th>\n",
       "      <td>KANEOHE 838.1, HI US</td>\n",
       "      <td>USC00513117</td>\n",
       "      <td>2696</td>\n",
       "    </tr>\n",
       "    <tr>\n",
       "      <th>2</th>\n",
       "      <td>WAIKIKI 717.2, HI US</td>\n",
       "      <td>USC00519397</td>\n",
       "      <td>2685</td>\n",
       "    </tr>\n",
       "    <tr>\n",
       "      <th>3</th>\n",
       "      <td>WAIMANALO EXPERIMENTAL FARM, HI US</td>\n",
       "      <td>USC00519523</td>\n",
       "      <td>2572</td>\n",
       "    </tr>\n",
       "    <tr>\n",
       "      <th>4</th>\n",
       "      <td>MANOA LYON ARBO 785.2, HI US</td>\n",
       "      <td>USC00516128</td>\n",
       "      <td>2484</td>\n",
       "    </tr>\n",
       "  </tbody>\n",
       "</table>\n",
       "</div>"
      ],
      "text/plain": [
       "                         station name   station id  tobs count\n",
       "0                 WAIHEE 837.5, HI US  USC00519281        2772\n",
       "1                KANEOHE 838.1, HI US  USC00513117        2696\n",
       "2                WAIKIKI 717.2, HI US  USC00519397        2685\n",
       "3  WAIMANALO EXPERIMENTAL FARM, HI US  USC00519523        2572\n",
       "4        MANOA LYON ARBO 785.2, HI US  USC00516128        2484"
      ]
     },
     "execution_count": 374,
     "metadata": {},
     "output_type": "execute_result"
    }
   ],
   "source": [
    "stations_df = pd.DataFrame(station_join, columns=['station name','station id','tobs count'])\n",
    "stations_df.head()"
   ]
  },
  {
   "cell_type": "code",
   "execution_count": 580,
   "metadata": {},
   "outputs": [],
   "source": [
    "#last 12 months of tobs data/filter by highest count\n",
    "sel = [Measurement.date,\n",
    "       Station.station,\n",
    "       Station.name,\n",
    "       Measurement.tobs]\n",
    "       #func.count(Measurement.tobs)]\n",
    "       \n",
    "year_ago = dt.date.today() - dt.timedelta(days=365)\n",
    "tobs_join = session.query(*sel).\\\n",
    "    filter(Measurement.station == Station.station).\\\n",
    "    filter(Measurement.date >= year_ago).\\\n",
    "    filter(Station.station == 'USC00519397').all()\n",
    "    #group_by(Station.station).\\\n",
    "    #order_by(Station.station).all()\n",
    "    #order_by(desc(func.count(Measurement.tobs))).all()\n",
    "    \n",
    "print(tobs_join)"
   ]
  },
  {
   "cell_type": "code",
   "execution_count": 376,
   "metadata": {},
   "outputs": [
    {
     "data": {
      "text/html": [
       "<div>\n",
       "<style>\n",
       "    .dataframe thead tr:only-child th {\n",
       "        text-align: right;\n",
       "    }\n",
       "\n",
       "    .dataframe thead th {\n",
       "        text-align: left;\n",
       "    }\n",
       "\n",
       "    .dataframe tbody tr th {\n",
       "        vertical-align: top;\n",
       "    }\n",
       "</style>\n",
       "<table border=\"1\" class=\"dataframe\">\n",
       "  <thead>\n",
       "    <tr style=\"text-align: right;\">\n",
       "      <th></th>\n",
       "      <th>date</th>\n",
       "      <th>station id</th>\n",
       "      <th>station name</th>\n",
       "      <th>tobs</th>\n",
       "    </tr>\n",
       "  </thead>\n",
       "  <tbody>\n",
       "    <tr>\n",
       "      <th>0</th>\n",
       "      <td>2017-04-17</td>\n",
       "      <td>USC00519397</td>\n",
       "      <td>WAIKIKI 717.2, HI US</td>\n",
       "      <td>74</td>\n",
       "    </tr>\n",
       "    <tr>\n",
       "      <th>1</th>\n",
       "      <td>2017-04-18</td>\n",
       "      <td>USC00519397</td>\n",
       "      <td>WAIKIKI 717.2, HI US</td>\n",
       "      <td>75</td>\n",
       "    </tr>\n",
       "    <tr>\n",
       "      <th>2</th>\n",
       "      <td>2017-04-19</td>\n",
       "      <td>USC00519397</td>\n",
       "      <td>WAIKIKI 717.2, HI US</td>\n",
       "      <td>74</td>\n",
       "    </tr>\n",
       "    <tr>\n",
       "      <th>3</th>\n",
       "      <td>2017-04-20</td>\n",
       "      <td>USC00519397</td>\n",
       "      <td>WAIKIKI 717.2, HI US</td>\n",
       "      <td>78</td>\n",
       "    </tr>\n",
       "    <tr>\n",
       "      <th>4</th>\n",
       "      <td>2017-04-21</td>\n",
       "      <td>USC00519397</td>\n",
       "      <td>WAIKIKI 717.2, HI US</td>\n",
       "      <td>73</td>\n",
       "    </tr>\n",
       "  </tbody>\n",
       "</table>\n",
       "</div>"
      ],
      "text/plain": [
       "         date   station id          station name  tobs\n",
       "0  2017-04-17  USC00519397  WAIKIKI 717.2, HI US    74\n",
       "1  2017-04-18  USC00519397  WAIKIKI 717.2, HI US    75\n",
       "2  2017-04-19  USC00519397  WAIKIKI 717.2, HI US    74\n",
       "3  2017-04-20  USC00519397  WAIKIKI 717.2, HI US    78\n",
       "4  2017-04-21  USC00519397  WAIKIKI 717.2, HI US    73"
      ]
     },
     "execution_count": 376,
     "metadata": {},
     "output_type": "execute_result"
    }
   ],
   "source": [
    "tobs_df = pd.DataFrame(tobs_join, columns=['date','station id','station name','tobs'])\n",
    "tobs_df.head()"
   ]
  },
  {
   "cell_type": "code",
   "execution_count": 377,
   "metadata": {},
   "outputs": [
    {
     "data": {
      "image/png": "[encoded data removed]",
      "text/plain": [
       "<matplotlib.figure.Figure at 0x1a223b40f0>"
      ]
     },
     "metadata": {},
     "output_type": "display_data"
    }
   ],
   "source": [
    "#tobs data histogram\n",
    "sns.set()\n",
    "fig, ax = plt.subplots()\n",
    "sns.distplot(tobs_df['tobs'], bins=12, kde=False, hist_kws=dict(alpha=1))\n",
    "\n",
    "plt.ylabel(\"Frequency\")\n",
    "plt.xlabel(\"Temperature Observations\")\n",
    "\n",
    "\n",
    "ax.legend(['tobs'])\n",
    "plt.show()\n"
   ]
  },
  {
   "cell_type": "markdown",
   "metadata": {},
   "source": [
    "Temperature Analysis"
   ]
  },
  {
   "cell_type": "code",
   "execution_count": 617,
   "metadata": {},
   "outputs": [
    {
     "data": {
      "text/plain": [
       "[('2017-04-01', 69, 75.5, 80, 69),\n",
       " ('2017-04-02', 71, 75.33333333333333, 79, 71),\n",
       " ('2017-04-03', 70, 74.33333333333333, 77, 70),\n",
       " ('2017-04-04', 67, 74.14285714285714, 78, 67),\n",
       " ('2017-04-05', 69, 73.85714285714286, 78, 69),\n",
       " ('2017-04-06', 67, 73.42857142857143, 77, 67),\n",
       " ('2017-04-07', 74, 75.83333333333333, 78, 74),\n",
       " ('2017-04-08', 73, 75.66666666666667, 77, 73),\n",
       " ('2017-04-09', 69, 72.25, 78, 69),\n",
       " ('2017-04-10', 67, 73.16666666666667, 79, 67),\n",
       " ('2017-04-11', 70, 75.66666666666667, 82, 70),\n",
       " ('2017-04-12', 69, 74.66666666666667, 80, 69)]"
      ]
     },
     "execution_count": 617,
     "metadata": {},
     "output_type": "execute_result"
    }
   ],
   "source": [
    "def calc_temps(start_date, end_date):\n",
    "    start_date = start_date\n",
    "    end_date = end_date\n",
    "    \n",
    "    sel = [Measurement.date,\n",
    "           Measurement.tobs,\n",
    "           func.avg(Measurement.tobs),\n",
    "           func.max(Measurement.tobs),\n",
    "           func.min(Measurement.tobs)]\n",
    "    date_choice = session.query(*sel).\\\n",
    "        filter(Measurement.date >= start_date, Measurement.date <= end_date).\\\n",
    "        group_by(Measurement.date).\\\n",
    "        order_by(Measurement.date).all()\n",
    "    \n",
    "    return(date_choice)\n",
    "\n",
    "calc_temps('2017-04-01','2017-04-12')\n"
   ]
  },
  {
   "cell_type": "code",
   "execution_count": 527,
   "metadata": {},
   "outputs": [
    {
     "data": {
      "text/plain": [
       "[('2016-04-01', 68, 72.71428571428571, 77, 68),\n",
       " ('2016-04-02', 71, 73.66666666666667, 77, 71),\n",
       " ('2016-04-03', 71, 74.5, 78, 71),\n",
       " ('2016-04-04', 69, 74.57142857142857, 78, 69),\n",
       " ('2016-04-05', 65, 72.83333333333333, 78, 65),\n",
       " ('2016-04-06', 67, 69.8, 72, 67),\n",
       " ('2016-04-07', 65, 69.33333333333333, 73, 65),\n",
       " ('2016-04-08', 68, 73.42857142857143, 77, 68),\n",
       " ('2016-04-09', 71, 74.0, 76, 71),\n",
       " ('2016-04-10', 68, 73.33333333333333, 78, 68),\n",
       " ('2016-04-11', 67, 73.0, 78, 67),\n",
       " ('2016-04-12', 70, 74.66666666666667, 77, 70)]"
      ]
     },
     "execution_count": 527,
     "metadata": {},
     "output_type": "execute_result"
    }
   ],
   "source": [
    "#year ago\n",
    "def calc_temps(start_date, end_date):\n",
    "    start_date = start_date\n",
    "    end_date = end_date\n",
    "    \n",
    "    sel = [Measurement.date,\n",
    "           Measurement.tobs,\n",
    "           func.avg(Measurement.tobs),\n",
    "           func.max(Measurement.tobs),\n",
    "           func.min(Measurement.tobs)]\n",
    "    year_start = dt.date(2017, 4, 1) - dt.timedelta(days=365)\n",
    "    year_end = dt.date(2017, 4, 12) - dt.timedelta(days=365)\n",
    "    \n",
    "    yr_date_choice = session.query(*sel).\\\n",
    "        filter(Measurement.date >= year_start, Measurement.date <= year_end).\\\n",
    "        group_by(Measurement.date).\\\n",
    "        order_by(Measurement.date).all()\n",
    "\n",
    "    return(yr_date_choice)\n",
    "\n",
    "calc_temps(2017-4-1, 2017-4-12)"
   ]
  },
  {
   "cell_type": "code",
   "execution_count": 585,
   "metadata": {},
   "outputs": [
    {
     "name": "stdout",
     "output_type": "stream",
     "text": [
      "[('2017-04-01', 69, 75.5, 80, 69), ('2017-04-02', 71, 75.33333333333333, 79, 71), ('2017-04-03', 70, 74.33333333333333, 77, 70), ('2017-04-04', 67, 74.14285714285714, 78, 67), ('2017-04-05', 69, 73.85714285714286, 78, 69), ('2017-04-06', 67, 73.42857142857143, 77, 67), ('2017-04-07', 74, 75.83333333333333, 78, 74), ('2017-04-08', 73, 75.66666666666667, 77, 73), ('2017-04-09', 69, 72.25, 78, 69), ('2017-04-10', 67, 73.16666666666667, 79, 67), ('2017-04-11', 70, 75.66666666666667, 82, 70), ('2017-04-12', 69, 74.66666666666667, 80, 69)]\n"
     ]
    }
   ],
   "source": [
    "#query for bar chart\n",
    "sel = [Measurement.date,\n",
    "           Measurement.tobs,\n",
    "           func.avg(Measurement.tobs),\n",
    "           func.max(Measurement.tobs),\n",
    "           func.min(Measurement.tobs)]\n",
    "year_start = dt.date(2017, 4, 1) - dt.timedelta(days=365)\n",
    "year_end = dt.date(2017, 4, 12) - dt.timedelta(days=365)\n",
    "yr_date_choice = session.query(*sel).\\\n",
    "    filter(Measurement.date >= '2017-04-01', Measurement.date <= '2017-04-12').\\\n",
    "    group_by(Measurement.date).\\\n",
    "    order_by(Measurement.date).all()\n",
    "        \n",
    "print(yr_date_choice)        "
   ]
  },
  {
   "cell_type": "code",
   "execution_count": 600,
   "metadata": {},
   "outputs": [
    {
     "data": {
      "text/html": [
       "<div>\n",
       "<style>\n",
       "    .dataframe thead tr:only-child th {\n",
       "        text-align: right;\n",
       "    }\n",
       "\n",
       "    .dataframe thead th {\n",
       "        text-align: left;\n",
       "    }\n",
       "\n",
       "    .dataframe tbody tr th {\n",
       "        vertical-align: top;\n",
       "    }\n",
       "</style>\n",
       "<table border=\"1\" class=\"dataframe\">\n",
       "  <thead>\n",
       "    <tr style=\"text-align: right;\">\n",
       "      <th></th>\n",
       "      <th>date</th>\n",
       "      <th>temperature</th>\n",
       "      <th>avg. temp</th>\n",
       "      <th>max. temp</th>\n",
       "      <th>min. temp</th>\n",
       "    </tr>\n",
       "  </thead>\n",
       "  <tbody>\n",
       "    <tr>\n",
       "      <th>0</th>\n",
       "      <td>2017-04-01</td>\n",
       "      <td>69</td>\n",
       "      <td>75.500000</td>\n",
       "      <td>80</td>\n",
       "      <td>69</td>\n",
       "    </tr>\n",
       "    <tr>\n",
       "      <th>1</th>\n",
       "      <td>2017-04-02</td>\n",
       "      <td>71</td>\n",
       "      <td>75.333333</td>\n",
       "      <td>79</td>\n",
       "      <td>71</td>\n",
       "    </tr>\n",
       "    <tr>\n",
       "      <th>2</th>\n",
       "      <td>2017-04-03</td>\n",
       "      <td>70</td>\n",
       "      <td>74.333333</td>\n",
       "      <td>77</td>\n",
       "      <td>70</td>\n",
       "    </tr>\n",
       "    <tr>\n",
       "      <th>3</th>\n",
       "      <td>2017-04-04</td>\n",
       "      <td>67</td>\n",
       "      <td>74.142857</td>\n",
       "      <td>78</td>\n",
       "      <td>67</td>\n",
       "    </tr>\n",
       "    <tr>\n",
       "      <th>4</th>\n",
       "      <td>2017-04-05</td>\n",
       "      <td>69</td>\n",
       "      <td>73.857143</td>\n",
       "      <td>78</td>\n",
       "      <td>69</td>\n",
       "    </tr>\n",
       "  </tbody>\n",
       "</table>\n",
       "</div>"
      ],
      "text/plain": [
       "         date  temperature  avg. temp  max. temp  min. temp\n",
       "0  2017-04-01           69  75.500000         80         69\n",
       "1  2017-04-02           71  75.333333         79         71\n",
       "2  2017-04-03           70  74.333333         77         70\n",
       "3  2017-04-04           67  74.142857         78         67\n",
       "4  2017-04-05           69  73.857143         78         69"
      ]
     },
     "execution_count": 600,
     "metadata": {},
     "output_type": "execute_result"
    }
   ],
   "source": [
    "yr_date_choice_df = pd.DataFrame(yr_date_choice, columns=['date','temperature','avg. temp','max. temp', 'min. temp'])\n",
    "yr_date_choice_df.head()"
   ]
  },
  {
   "cell_type": "code",
   "execution_count": 630,
   "metadata": {},
   "outputs": [
    {
     "data": {
      "image/png": "[encoded data removed]",
      "text/plain": [
       "<matplotlib.figure.Figure at 0x1a1fb02978>"
      ]
     },
     "metadata": {},
     "output_type": "display_data"
    }
   ],
   "source": [
    "sns.set()\n",
    "ax = sns.barplot(y='avg. temp', data=yr_date_choice_df, color=\"coral\")\n",
    "\n",
    "plt.title(\"Trip Average Temp\")\n",
    "plt.ylabel(\"Temp (F)\")\n",
    "\n",
    "for p in ax.patches:\n",
    "    height = p.get_height()\n",
    "    ax.text(p.get_x()+p.get_width()/2.,\n",
    "            1.05*height,\n",
    "                '{:1.2f}'.format(height),\n",
    "            ha=\"center\") \n",
    "\n",
    "#plt.ylim(-0.18, 0.05)\n",
    "#plt.savefig(\"Media_Sentiment_Overall.png\", dpi=150)\n",
    "plt.show()"
   ]
  },
  {
   "cell_type": "code",
   "execution_count": null,
   "metadata": {
    "collapsed": true
   },
   "outputs": [],
   "source": []
  }
 ],
 "metadata": {
  "kernelspec": {
   "display_name": "Python 3",
   "language": "python",
   "name": "python3"
  },
  "language_info": {
   "codemirror_mode": {
    "name": "ipython",
    "version": 3
   },
   "file_extension": ".py",
   "mimetype": "text/x-python",
   "name": "python",
   "nbconvert_exporter": "python",
   "pygments_lexer": "ipython3",
   "version": "3.6.3"
  }
 },
 "nbformat": 4,
 "nbformat_minor": 2
}
